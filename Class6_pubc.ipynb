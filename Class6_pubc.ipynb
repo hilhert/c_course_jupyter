{
 "cells": [
  {
   "cell_type": "markdown",
   "metadata": {},
   "source": [
    "<p style=\"text-align: center;font-size: 33px;font-weight:bold;\"> <span style=\"color:DarkGoldenrod\">&lt;&lt; C程序的基本要素 &gt;&gt;</span></p>\n",
    "<p style=\"text-align: center;font-size: 25px;font-weight:bold;\"> <span style=\"color:Goldenrod\">&lt;&lt; Programming Basics using C Language  &gt;&gt;</span></p>\n",
    "<p style=\"text-align: right; font-size:15px; font-weight:normal\">----千里之行，基于硅步</p>"
   ]
  },
  {
   "cell_type": "markdown",
   "metadata": {},
   "source": [
    "* 函数\n",
    " * 当程序比较复杂时，一般将反复执行的模块封装为函数。\n",
    " * 一组相关的函数一般封装为一个模块，一个模块由一个头文件定义，由包含该头文件的C文件实现。\n",
    " * 封装的函数可被其他程序反复调用（现代工程一般较大，导入了大量不需要使用的库文件）。\n",
    " * C语言中，一般将多个函数共同操作的变量定义为全局的静态变量。"
   ]
  },
  {
   "cell_type": "code",
   "execution_count": null,
   "metadata": {},
   "outputs": [],
   "source": [
    "* 例: 统计以下诗歌中包含字符串\"es\"的行数。"
   ]
  },
  {
   "cell_type": "markdown",
   "metadata": {},
   "source": [
    "<div style=\" overflow: hidden;\n",
    "    background-color: silver;\">\n",
    "<div style=\"display: inline-block;\n",
    "   position: relative;\n",
    "   left: 50%;\n",
    "   background-color: silver;\">\n",
    "    <div style=\"display: inline-block;\n",
    "    position: relative;\n",
    "    left: -50%;\n",
    "    width:320px;\n",
    "    background-color: white;\">\n",
    "    <p style=\"text-align: left; font-size:15px; font-weight:normal;\">   \n",
    "    EVEN as the sun with purple-colour'd face<br>\n",
    "    Had ta'en his last leave of the weeping morn,<br>\n",
    "    Rose-cheek'd Adonis hied him to the chase;<br>\n",
    "    Hunting he loved, but love he laugh'd to scorn;<br>\n",
    "    Sick-thoughted Venus makes amain unto him,<br>\n",
    "    And like a bold-faced suitor 'gins to woo him.<br>\n",
    "    </p><p style=\"text-align: left; font-size:15px; font-weight:normal;\">\n",
    "    'Thrice-fairer than myself,' thus she began,<br>\n",
    "    'The field's chief flower, sweet above compare,<br>\n",
    "    Stain to all nymphs, more lovely than a man,<br>\n",
    "    More white and red than doves or roses are;<br>\n",
    "    Nature that made thee, with herself at strife,<br>\n",
    "    Saith that the world hath ending with thy life.<br>\n",
    "    </p><p style=\"text-align: left; font-size:15px; font-weight:normal;\">\n",
    "    'Vouchsafe, thou wonder, to alight thy steed,<br>\n",
    "    And rein his proud head to the saddle-bow;<br>\n",
    "    If thou wilt deign this favour, for thy meed<br>\n",
    "    A thousand honey secrets shalt thou know:<br>\n",
    "    Here come and sit, where never serpent hisses,<br>\n",
    "    And being set, I'll smother thee with kisses;<br>\n",
    "    </p><p style=\"text-align: left; font-size:15px; font-weight:normal;\">\n",
    "    'And yet not cloy thy lips with loathed satiety,<br>\n",
    "    But rather famish them amid their plenty,<br>\n",
    "    Making them red and pale with fresh variety,<br>\n",
    "    Ten kisses short as one, one long as twenty:<br>\n",
    "    A summer's day will seem an hour but short,<br>\n",
    "    Being wasted in such time-beguiling sport.'<br>\n",
    " </p><div></div></div>"
   ]
  },
  {
   "cell_type": "markdown",
   "metadata": {},
   "source": [
    "思路： 逐行查找字符串es，找到的话统计量+1。以剩余行为空作为中之条件。<br>\n",
    "C语言伪代码："
   ]
  },
  {
   "cell_type": "markdown",
   "metadata": {},
   "source": [
    "```C\n",
    "int counter=0;\n",
    "while(line=读取一行)\n",
    "    if(line包含 \"es\") counter++; \n",
    "printf(\"%d\\n\",counter);\n",
    "//需要实现的功能： 读取一行\n",
    "//              判断一行字符串是否包含\"es\"\n",
    "//              需要一个记录字符串读取起始位值的操作。\n",
    "```\n"
   ]
  },
  {
   "cell_type": "code",
   "execution_count": null,
   "metadata": {},
   "outputs": [],
   "source": [
    "//读取一行，从起始位值p开始，结束后将p置于下一行起始处。\n",
    "int readline(char line[]){\n",
    "int i;  //auto variable, 内部变量\n",
    "if(str[p]=='\\0') return 0;\n",
    "while(str[p]=='\\n') p++;    \n",
    "for(i=p;str[i]!='\\n'&&str[i]!='\\0';i++) line[i-p]=str[i];\n",
    "line[i-p]='\\0';\n",
    "p=i;\n",
    "return 1;\n",
    "}     //p在哪里？ str在哪里？\n",
    "    "
   ]
  },
  {
   "cell_type": "code",
   "execution_count": null,
   "metadata": {},
   "outputs": [],
   "source": [
    "//判断一个字符串是否包含另一个短字符串。泛化功能：判断查找字符串在行串中的起始位值。\n",
    "int strindex(char line[],char t[]){\n",
    "int i,j;\n",
    "    for(i=0;line[i]!='\\0';i++){\n",
    "       for(j=0;line[i+j]==t[j]&&t[j]!='\\0';j++); \n",
    "          if(t[j]=='\\0') return i;\n",
    "        }\n",
    "    return -1;\n",
    "}"
   ]
  },
  {
   "cell_type": "markdown",
   "metadata": {},
   "source": [
    "**合并**"
   ]
  },
  {
   "cell_type": "code",
   "execution_count": null,
   "metadata": {},
   "outputs": [],
   "source": [
    "#include <stdio.h>\n",
    "\n",
    "static char str[]=\"EVEN as the sun with purple-colour\\'d face\\nHad ta'en his last leave of the weeping morn,\\nRose-cheek'd Adonis hied him to the chase;\\nHunting he loved, but love he laugh'd to scorn;\\nSick-thoughted Venus makes amain unto him,\\nAnd like a bold-faced suitor 'gins to woo him'.\\n\\n'Thrice-fairer than myself,' thus she began,\\n'The field's chief flower, sweet above compare,\\nStain to all nymphs, more lovely than a man,\\nMore white and red than doves or roses are;\\nNature that made thee, with herself at strife,\\nSaith that the world hath ending with thy life.\\n\\n'Vouchsafe, thou wonder, to alight thy steed,\\nAnd rein his proud head to the saddle-bow;\\nIf thou wilt deign this favour, for thy meed\\nA thousand honey secrets shalt thou know:\\nHere come and sit, where never serpent hisses,\\nAnd being set, I'll smother thee with kisses;\\n\\n'And yet not cloy thy lips with loathed satiety,\\nBut rather famish them amid their plenty,\\nMaking them red and pale with fresh variety,\\nTen kisses short as one, one long as twenty:\\nA summer's day will seem an hour but short,\\nBeing wasted in such time-beguiling sport.\";\n",
    "static int p=0;    \n",
    "int readline(char line[]){\n",
    "int i;  //auto variable, 内部变量\n",
    "if(str[p]=='\\0') return 0;\n",
    "while(str[p]=='\\n') p++;    \n",
    "for(i=p;str[i]!='\\n'&&str[i]!='\\0';i++) line[i-p]=str[i];\n",
    "line[i-p]='\\0';\n",
    "p=i;\n",
    "return 1;\n",
    "}    \n",
    "//判断一个字符串是否包含另一个短字符串。泛化功能：判断查找字符串在行串中的起始位值。\n",
    "int strindex(char line[],char t[]){\n",
    "int i,j;\n",
    "    for(i=0;line[i]!='\\0';i++){\n",
    "       for(j=0;line[i+j]==t[j]&&t[j]!='\\0';j++);\n",
    "          if(t[j]=='\\0') return i;\n",
    "        }\n",
    "    return -1;\n",
    "}\n",
    "int main(){\n",
    "int counter=0;\n",
    "char line[1000];\n",
    "char t[]=\"es\";    \n",
    "while(readline(line)) if(strindex(line,t)>=0) counter++; \n",
    "printf(\"%d lines include:%s\\n\",counter,t);\n",
    "}"
   ]
  },
  {
   "cell_type": "code",
   "execution_count": null,
   "metadata": {},
   "outputs": [],
   "source": [
    "//将以下排序算法（堆排序）进行函数封装，\n",
    "//使主函数main()中不显式包含排序逻辑。 \n",
    "#include <stdio.h>\n",
    "void swap(int* a, int*b){\n",
    "int tmp = *a;\n",
    "*a      = *b;\n",
    "*b      = tmp;\n",
    "}\n",
    "void adjust_heap(int* arr, int top,int N){\n",
    "int tmp = arr[top];\n",
    "for(int j=top*2+1;j<N;j=j*2+1){\n",
    "if(arr[j]<arr[j+1]&&(j+1)<N) j++;\n",
    "if(tmp<arr[j]){ \n",
    "arr[top]=arr[j];\n",
    "top = j;\n",
    "}else break;\n",
    "}\n",
    "arr[top] = tmp;\n",
    "\n",
    "}\n",
    "void create_heap(int* arr, int N){\n",
    "for(int i=N/2-1;i>=0;i--) adjust_heap(arr,i,N);\n",
    "}\n",
    "void print_n(int* arr, int n){\n",
    "for(int i=0;i<n;i++) printf(\"%d  \",arr[i]);\n",
    "printf(\"\\n\");\n",
    "}\n",
    "int main(){\n",
    "int arr[17]={45,23,12,-15,76,34,77,23,-66,34,89,20,33,56,79,-21,-3};\n",
    "create_heap(arr,17);\n",
    "//printf(\"%d\",arr[0]);\n",
    "for(int n=17;n>1;n--)\n",
    "{\n",
    "swap(&arr[0],&arr[n-1]);\n",
    "adjust_heap(arr,0,n-1);\n",
    "print_n(arr,17);\n",
    "}\n",
    "return 0;\n",
    "}"
   ]
  },
  {
   "cell_type": "markdown",
   "metadata": {},
   "source": [
    "**更进一步**"
   ]
  },
  {
   "cell_type": "code",
   "execution_count": null,
   "metadata": {},
   "outputs": [],
   "source": [
    "// m_strop.h\n",
    "static char str[]=\"EVEN as the sun with purple-colour\\'d face\\nHad ta'en his last leave of the weeping morn,\\nRose-cheek'd Adonis hied him to the chase;\\nHunting he loved, but love he laugh'd to scorn;\\nSick-thoughted Venus makes amain unto him,\\nAnd like a bold-faced suitor 'gins to woo him'.\\n\\n'Thrice-fairer than myself,' thus she began,\\n'The field's chief flower, sweet above compare,\\nStain to all nymphs, more lovely than a man,\\nMore white and red than doves or roses are;\\nNature that made thee, with herself at strife,\\nSaith that the world hath ending with thy life.\\n\\n'Vouchsafe, thou wonder, to alight thy steed,\\nAnd rein his proud head to the saddle-bow;\\nIf thou wilt deign this favour, for thy meed\\nA thousand honey secrets shalt thou know:\\nHere come and sit, where never serpent hisses,\\nAnd being set, I'll smother thee with kisses;\\n\\n'And yet not cloy thy lips with loathed satiety,\\nBut rather famish them amid their plenty,\\nMaking them red and pale with fresh variety,\\nTen kisses short as one, one long as twenty:\\nA summer's day will seem an hour but short,\\nBeing wasted in such time-beguiling sport.\";\n",
    "static int p=0;    \n",
    "int readline(char line[]){\n",
    "int i;  //auto variable, 内部变量\n",
    "if(str[p]=='\\0') return 0;\n",
    "while(str[p]=='\\n') p++;    \n",
    "for(i=p;str[i]!='\\n'&&str[i]!='\\0';i++) line[i-p]=str[i];\n",
    "line[i-p]='\\0';\n",
    "p=i;\n",
    "return 1;\n",
    "}    \n",
    "//判断一个字符串是否包含另一个短字符串。泛化功能：判断查找字符串在行串中的起始位值。\n",
    "int strindex(char line[],char t[]){\n",
    "int i,j;\n",
    "    for(i=0;line[i]!='\\0';i++){\n",
    "       for(j=0;line[i+j]==t[j]&&t[j]!='\\0';j++);\n",
    "          if(t[j]=='\\0') return i;\n",
    "        }\n",
    "    return -1;\n",
    "}"
   ]
  },
  {
   "cell_type": "markdown",
   "metadata": {},
   "source": [
    "* 递归函数：\n",
    "* 函数自身调用自身。\n",
    "* 一般在程序过程中，将一个大问题（如数组排序）分解为若干个小问题，发现部分小问题与大问题的定义方式基本一样。\n",
    "* 此时适合采用递归进行程序的设计与实现。\n",
    "* 线性递归： \n",
    " * A(n)$\\rightarrow$A(n-1)$\\rightarrow$A(n-2)$\\rightarrow \\cdots$A(1)$\\downarrow$\n",
    " * A(n)$\\leftarrow \\cdots$A(3)$\\leftarrow$A(2)$\\leftarrow$A(1) \n",
    "* 递归的优点： 代码紧凑，结构清析。\n",
    "* 递归的缺点： 执行速度慢。\n",
    "* 要点：\n",
    " 1. 确定终止条件！\n",
    " 2. 确定结构关系！"
   ]
  },
  {
   "cell_type": "code",
   "execution_count": 5,
   "metadata": {},
   "outputs": [
    {
     "name": "stdout",
     "output_type": "stream",
     "text": [
      "120"
     ]
    }
   ],
   "source": [
    "// 阶乘递归算法\n",
    "#include <stdio.h>\n",
    "long factorial(int n){\n",
    "    return n==1?1:n*factorial(n-1); \n",
    "}\n",
    "int main(){\n",
    "    printf(\"%ld\",factorial(5));\n",
    "}"
   ]
  },
  {
   "cell_type": "code",
   "execution_count": 6,
   "metadata": {},
   "outputs": [
    {
     "name": "stdout",
     "output_type": "stream",
     "text": [
      "the gcd of (162,72) is 18"
     ]
    }
   ],
   "source": [
    "// 求最大公约数\n",
    "// 辗转相除法（欧几里德算法）\n",
    "#include <stdio.h>\n",
    "int gcd(int a, int b){ // greatest common divisor\n",
    "    if(a%b==0) return b;\n",
    "    else return gcd(b,a%b);\n",
    "}                      \n",
    "int main(){\n",
    "    printf(\"the gcd of (%d,%d) is %d\", 162,72,gcd(162,72));\n",
    "}"
   ]
  },
  {
   "cell_type": "code",
   "execution_count": null,
   "metadata": {},
   "outputs": [],
   "source": [
    "//非线性递归。\n",
    "//函数的递归调用，汉诺塔！\n",
    "#include <stdio.h>\n",
    "void hanoi(int disks,char from,char to,char temp){\n",
    "if(disks==1) {\n",
    "printf(\"put disk from %c to %c\\n\", from,to);\n",
    "return;\n",
    "}\n",
    "hanoi(disks-1,from,temp,to);\n",
    "printf(\"put disk from %c to %c\\n\", from,to);\n",
    "hanoi(disks-1,temp,to,from);    \n",
    "}\n",
    "int main(){\n",
    "    hanoi(10,'A','C','B');\n",
    "}"
   ]
  },
  {
   "cell_type": "code",
   "execution_count": null,
   "metadata": {},
   "outputs": [],
   "source": [
    "//任意递归函数均可使用堆栈与循环实现（难度较大）。\n",
    "//汉诺塔的非递归实现！（等效于完全二叉树的中序遍历）\n",
    "#include <stdio.h>\n",
    "#define  maxelement 5000;\n",
    "typedef struct {int disks;char from;char to;char temp;} argshanoi;\n",
    "static argshanoi elements[5000];\n",
    "static int t = -1;\n",
    "static int isStackEmpty(){\n",
    "    if(t==-1) return 1;\n",
    "        else return 0;\n",
    "}\n",
    "static void push(argshanoi element){\n",
    "    elements[++t]=element;\n",
    "}\n",
    "static argshanoi pop(){\n",
    "    return elements[t--];\n",
    "}\n",
    "\n",
    "int main(){\n",
    "  argshanoi root;root.disks=6,root.from='A',root.to='C',root.temp='B';\n",
    "  argshanoi right;argshanoi pre;argshanoi current;\n",
    "  push(root);\n",
    "  do{\n",
    "  pre=pop();    \n",
    "  current.disks=pre.disks-1,current.from=pre.from, current.to=pre.temp,current.temp=pre.to;\n",
    "  push(pre);\n",
    "  push(current);    \n",
    "  }while(current.disks!=1);\n",
    "  while(!isStackEmpty()){\n",
    "  current=pop();\n",
    "  printf(\"put disk from %c to %c\\n\",current.from,current.to);    \n",
    "  if(current.disks==1) continue;\n",
    "  right.disks=current.disks-1,right.from=current.temp,right.to=current.to,right.temp=current.from;\n",
    "  push(right);\n",
    "  do{\n",
    "  pre=pop();    \n",
    "  if(pre.disks==1){push(pre);break;}\n",
    "  current.disks=pre.disks-1,current.from=pre.from, current.to=pre.temp,current.temp=pre.to;\n",
    "  push(pre);\n",
    "  push(current);        \n",
    "  }while(current.disks!=1);\n",
    "  }  \n",
    "  return -1; \n",
    "}"
   ]
  },
  {
   "cell_type": "code",
   "execution_count": null,
   "metadata": {},
   "outputs": [],
   "source": [
    "//快速排序\n",
    "void swap(int* a, int*b){\n",
    "int tmp = *a;\n",
    "*a      = *b;\n",
    "*b      = tmp;\n",
    "}\n",
    "#include <stdio.h>\n",
    "void print_n(int* arr, int n){\n",
    "for(int i=0;i<n;i++) printf(\"%d  \",arr[i]);\n",
    "printf(\"\\n\");\n",
    "}\n",
    "int put_last(int*arr, int left ,int right){\n",
    "int i=left,j=right,tmp=arr[i];\n",
    "while(i<j){\n",
    "while(i<j&&arr[j]>=tmp){j--;}; arr[i]=arr[j];\n",
    "while(i<j&&arr[i]<=tmp){i++;}; arr[j]=arr[i];\n",
    "}\n",
    "arr[i]=tmp;\n",
    "return i;\n",
    "}\n",
    "void quick_sort(int* arr, int left,int right){\n",
    "if(left<right){\n",
    "int b = put_last(arr,left,right);\n",
    "quick_sort(arr,left,b-1);\n",
    "quick_sort(arr,b+1,right);\n",
    "}\n",
    "}\n",
    "\n",
    "int main(){\n",
    "int arr[17]={45,23,12,-15,76,34,77,23,-66,34,89,20,33,56,79,-21,-3};\n",
    "quick_sort(arr,0,16);\n",
    "print_n(arr,17);\n",
    "return 0;\n",
    "}\n",
    "//尝试将快排使用非递归实现。 "
   ]
  }
 ],
 "metadata": {
  "kernelspec": {
   "display_name": "C",
   "language": "c",
   "name": "c"
  },
  "language_info": {
   "file_extension": ".c",
   "mimetype": "text/plain",
   "name": "c"
  }
 },
 "nbformat": 4,
 "nbformat_minor": 2
}
