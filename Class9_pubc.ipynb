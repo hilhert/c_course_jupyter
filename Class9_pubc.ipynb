{
 "cells": [
  {
   "cell_type": "markdown",
   "metadata": {},
   "source": [
    "<p style=\"text-align: center;font-size: 33px;font-weight:bold;\"> <span style=\"color:DarkGoldenrod\">&lt;&lt;输入、输出与文件访问&gt;&gt;</span></p>\n",
    "<p style=\"text-align: center;font-size: 25px;font-weight:bold;\"> <span style=\"color:Goldenrod\">&lt;&lt; IO AND FILE ACCESS  &gt;&gt;</span></p>\n",
    "<p style=\"text-align: right; font-size:15px; font-weight:normal\">----学而时习之，不亦乐乎？</p>"
   ]
  },
  {
   "cell_type": "markdown",
   "metadata": {},
   "source": [
    "* **输入输出流**\n",
    "* **变长参数列表**\n",
    "* **文件指针与文件的打开模式**\n",
    "* **C程序隐含的文件指针**\n",
    "* **文件的二进制读写**"
   ]
  },
  {
   "cell_type": "markdown",
   "metadata": {},
   "source": [
    "#### **输入输出流**"
   ]
  },
  {
   "cell_type": "markdown",
   "metadata": {},
   "source": [
    "假设程序prog使用getchar(void)函数从**标准输入流**中获取信息，那么： <br>\n",
    "prog&lt;infile &nbsp;&nbsp;&nbsp;&nbsp; 将**输入流**重定向为infile文件 将<br>\n",
    "假设程序prog使用putchar(void)函数在**标准输出流**中打印信息，那么：  <br>\n",
    "prog&gt;outfile &nbsp;&nbsp;&nbsp;&nbsp; 将**输出流**重定向为outfile文件  <br>\n",
    "prog|prog1 &nbsp;&nbsp;&nbsp;&nbsp; 将prog的输出作为prog1的输入   <br>"
   ]
  },
  {
   "cell_type": "markdown",
   "metadata": {},
   "source": [
    "#### **变长参数列表**"
   ]
  },
  {
   "cell_type": "code",
   "execution_count": null,
   "metadata": {},
   "outputs": [],
   "source": [
    "#include <stdarg.h>\n",
    "/* minprintf: minimal printf with variable argument list */\n",
    "void minprintf(char *fmt, ...)\n",
    "{\n",
    "va_list ap; /* points to each unnamed arg in turn */\n",
    "char *p, *sval;\n",
    "int ival;\n",
    "double dval;\n",
    "va_start(ap, fmt); /* make ap point to 1st unnamed arg */\n",
    "for (p = fmt; *p; p++) {\n",
    "   if (*p != '%') {\n",
    "       putchar(*p);\n",
    "       continue;\n",
    "    }\n",
    "   switch (*++p) {\n",
    "     case 'd':\n",
    "     ival = va_arg(ap, int);\n",
    "     printf(\"%d\", ival);\n",
    "     break;\n",
    "     case 'f':\n",
    "     dval = va_arg(ap, double);\n",
    "     printf(\"%f\", dval);\n",
    "     break;\n",
    "     case 's':\n",
    "     for (sval = va_arg(ap, char *); *sval; sval++)\n",
    "         putchar(*sval);\n",
    "     break;\n",
    "     default:\n",
    "     putchar(*p);\n",
    "     break;\n",
    "    }\n",
    "   }\n",
    "va_end(ap); /* clean up when done */\n",
    "}"
   ]
  },
  {
   "cell_type": "markdown",
   "metadata": {},
   "source": [
    "#### **文件指针与文件的打开模式**"
   ]
  },
  {
   "cell_type": "markdown",
   "metadata": {},
   "source": [
    "```C\n",
    "FILE* fp=NULL; //定义并初始化一个文件指针，初始化是一个好习惯。\n",
    "int main(){ //无参主函数。带参int main(int arc,char* argv[]) arc为参数个数，argv为参数列表\n",
    "fp=fopen(路径,模式); //模式='r','w','a','rb','wb','ab'(读，写，追加|二进制读写+b)\n",
    "    //...\n",
    "    //文件读写操作语句 \n",
    "    //...\n",
    "fclose(fp);//一定要记得关闭文件    \n",
    "}\n",
    "```"
   ]
  },
  {
   "cell_type": "markdown",
   "metadata": {},
   "source": [
    "* **顺序读写字符示例：**\n",
    "* **代码1：显示文件内容**\n",
    "* **代码2：拷贝文件**"
   ]
  },
  {
   "cell_type": "code",
   "execution_count": null,
   "metadata": {},
   "outputs": [],
   "source": [
    "#include <stdio.h>\n",
    "FILE* fp=NULL;\n",
    "char c;\n",
    "int main(){\n",
    "fp=fopen(\"./README.md\",\"r\");  //fopen函数智能放在函数内部。\n",
    "    while ((c = getc(fp)) != EOF)\n",
    "      printf(\"%c\",c); printf(\"\\n\");\n",
    "fclose(fp);    \n",
    "}"
   ]
  },
  {
   "cell_type": "code",
   "execution_count": null,
   "metadata": {},
   "outputs": [],
   "source": [
    "#include <stdio.h>\n",
    "FILE* fp=NULL;\n",
    "FILE* fp1=NULL;\n",
    "char c;\n",
    "int main(){\n",
    "fp=fopen(\"./README.md\",\"r\");  //fopen函数智能放在函数内部。\n",
    "fp1=fopen(\"./README.md.cp\",\"w\"); //不需要创建文件，由w写模式与系统中是否存在文件决定文件是否自动创建。    \n",
    "    while ((c = getc(fp)) != EOF)\n",
    "      putc(c,fp1);\n",
    "fclose(fp);\n",
    "fclose(fp1);    \n",
    "}"
   ]
  },
  {
   "cell_type": "markdown",
   "metadata": {},
   "source": [
    "#### **C隐含的文件指针**\n",
    "* **标准输出文件指针：stdout**\n",
    "* **标准输入文件指针：stdin**\n",
    "* **标准错误文件指针：stderr**"
   ]
  },
  {
   "cell_type": "code",
   "execution_count": null,
   "metadata": {},
   "outputs": [],
   "source": [
    "#include <stdio.h>\n",
    "FILE* fp=NULL;\n",
    "//FILE* fp1=NULL;\n",
    "char c;\n",
    "int main(){\n",
    "fp=fopen(\"./README.md\",\"r\");  //fopen函数智能放在函数内部。\n",
    "//fp1=fopen(\"./README.md.cp\",\"w\"); //不需要创建文件，由w写模式与系统中是否存在文件决定文件是否自动创建。    \n",
    "    while ((c = getc(fp)) != EOF) //EOF 代表：End of File\n",
    "      putc(c,stdout);   \n",
    "fclose(fp);    \n",
    "}"
   ]
  },
  {
   "cell_type": "markdown",
   "metadata": {},
   "source": [
    "* **scanf:    从stdin中格式化输入数据**\n",
    "* **printf:   从stdout中格式化输出数据**\n",
    "* **fscanf:   从任意文件流（指针）中格式化输入数据**\n",
    "* **fprintf:  从任意文件流（指针）中格式化输出数据**"
   ]
  },
  {
   "cell_type": "markdown",
   "metadata": {},
   "source": [
    "#### **文件的二进制读写**\n",
    "* **读写数组**\n",
    "* **读写结构体**"
   ]
  },
  {
   "cell_type": "markdown",
   "metadata": {},
   "source": [
    "```C\n",
    "size_t fread ( void * ptr, size_t size, size_t count, FILE * stream );\n",
    "size_t fwrite ( const void * ptr, size_t size, size_t count, FILE * stream );\n",
    "```"
   ]
  },
  {
   "cell_type": "markdown",
   "metadata": {},
   "source": [
    "* **写数组**"
   ]
  },
  {
   "cell_type": "code",
   "execution_count": null,
   "metadata": {},
   "outputs": [],
   "source": [
    "#include <stdio.h>\n",
    "#include <stdlib.h>\n",
    "FILE * pFile=NULL;\n",
    "void main ()\n",
    "{\n",
    "  \n",
    "  int buffer[] = {1, 2, 3, 4};\n",
    "  if((pFile = fopen (\"integers.txt\", \"wb\"))==NULL)\n",
    "  {\n",
    "      printf(\"cant open the file\");\n",
    "      exit(0);  //exit 与 return 的区别，exit可以出现在任何函数中\n",
    "  }\n",
    "  //可以写多个连续的数据(这里一次写4个)\n",
    "  fwrite (buffer , sizeof(int), 4, pFile);\n",
    "  fclose (pFile);\n",
    "  //return 0;\n",
    "}"
   ]
  },
  {
   "cell_type": "markdown",
   "metadata": {},
   "source": [
    "* **读数组**"
   ]
  },
  {
   "cell_type": "code",
   "execution_count": null,
   "metadata": {},
   "outputs": [],
   "source": [
    "#include <stdio.h>\n",
    "#include <stdlib.h>\n",
    "FILE * fp=NULL;\n",
    "void main () {\n",
    "   \n",
    "    int buffer[4];\n",
    "    if((fp=fopen(\"integers.txt\",\"rb\"))==NULL)\n",
    "    {\n",
    "      printf(\"cant open the file\");\n",
    "      exit(0);\n",
    "    }\n",
    "    if(fread(buffer,sizeof(int),4,fp)!=4)   //可以一次读取\n",
    "    {\n",
    "        printf(\"file read error\\n\");\n",
    "        exit(1);  //不同代码段给出不同标号，方便调试\n",
    "    }\n",
    "\n",
    "    for(int i=0;i<4;i++)\n",
    "        printf(\"%d\\n\",buffer[i]);\n",
    "    fclose(fp);\n",
    "   // return 0;\n",
    "}"
   ]
  },
  {
   "cell_type": "markdown",
   "metadata": {},
   "source": [
    "* **写结构体**"
   ]
  },
  {
   "cell_type": "code",
   "execution_count": null,
   "metadata": {},
   "outputs": [],
   "source": [
    "#include <stdio.h>\n",
    "#include <string.h>\n",
    "#include <stdlib.h>\n",
    "typedef struct{\n",
    "    int age;\n",
    "    char name[30];\n",
    "} People;\n",
    "FILE * pFile=NULL;\n",
    "int i;\n",
    "\n",
    "void main ()\n",
    "{\n",
    "    People p[3];\n",
    "    p[0].age=20,strcpy(p[0].name,\"li\");\n",
    "    p[1].age=18,strcpy(p[1].name,\"wang\");\n",
    "    p[2].age=21,strcpy(p[2].name,\"zhang\");\n",
    "\n",
    "    if((pFile = fopen (\"structs.txt\", \"wb\"))==NULL)\n",
    "    {\n",
    "        printf(\"cant open the file\");\n",
    "        exit(0);\n",
    "    }\n",
    "\n",
    "    if(fwrite(p,sizeof(People),3,pFile)!=3)\n",
    "        printf(\"file write error\\n\");\n",
    "    \n",
    "    fclose (pFile);\n",
    "}"
   ]
  },
  {
   "cell_type": "markdown",
   "metadata": {},
   "source": [
    "* **读结构体**"
   ]
  },
  {
   "cell_type": "code",
   "execution_count": null,
   "metadata": {},
   "outputs": [],
   "source": [
    "#include <stdio.h>\n",
    "#include <string.h>\n",
    "#include <stdlib.h>\n",
    "#include <malloc.h>\n",
    "typedef struct{\n",
    "    int age;\n",
    "    char name[30];\n",
    "} People;\n",
    "\n",
    "FILE * fp;\n",
    "People* p=NULL;\n",
    "   \n",
    "void main () {\n",
    "    p=(People*) malloc(sizeof(People));// 为p申请内存空间\n",
    "    if((fp=fopen(\"structs.txt\",\"rb\"))==NULL)\n",
    "    {\n",
    "      printf(\"cant open the file\");\n",
    "      exit(0);\n",
    "    }\n",
    "    while(fread(p,sizeof(People),1,fp)==1)   //如果读到数据，就显示；否则退出\n",
    "    {\n",
    "        printf(\"%d %s\\n\",p->age,p->name);\n",
    "    }\n",
    "}"
   ]
  },
  {
   "cell_type": "code",
   "execution_count": null,
   "metadata": {},
   "outputs": [],
   "source": []
  }
 ],
 "metadata": {
  "kernelspec": {
   "display_name": "C",
   "language": "c",
   "name": "c"
  },
  "language_info": {
   "file_extension": ".c",
   "mimetype": "text/plain",
   "name": "c"
  }
 },
 "nbformat": 4,
 "nbformat_minor": 2
}
