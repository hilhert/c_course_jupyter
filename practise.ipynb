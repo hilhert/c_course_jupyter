{
 "cells": [
  {
   "cell_type": "markdown",
   "metadata": {},
   "source": [
    "##   课程练习：\n",
    "1.   编写一个程序，将字符串s中的字符颠倒过来。<br>\n",
    "(1) 采用倒序迭代方式进行程序编写。<br>\n",
    "(2) 采用递归方式进行函数设计。\n",
    "2.   编写squeeze(s1,s2)函数，将s1中任意与s2中匹配的字符都删除。 \n",
    "3.   编写expand(s1,s2)函数，将s1中类似于\"a-z\",\"0-9\"一类的速记符号在字符串s2中扩展为等价的列表\"abcd......xyz\",\"0123456789\"。<br>\n",
    "注：正则表达式（regexp）的一部分知识点，应多留意，对工作十分有用。\n",
    "4.   编写rightrot(x,k)函数，将x的二进制位循环向右移动k位（移除的k个二进制位放到x的最左边）。\n",
    "5.   定义宏（预处理指令）swap(a,b), 交换变量a,b的值。\n",
    "6.   编写一个文档解析程序，按单词出现的**频率**降序打印出单词列表。<br>\n",
    "注：单词可能存在拼写错误，尝试给出拼写错误检查的解决方案。\n",
    "   "
   ]
  },
  {
   "cell_type": "code",
   "execution_count": null,
   "metadata": {},
   "outputs": [],
   "source": []
  }
 ],
 "metadata": {
  "kernelspec": {
   "display_name": "C",
   "language": "c",
   "name": "c"
  },
  "language_info": {
   "file_extension": ".c",
   "mimetype": "text/plain",
   "name": "c"
  }
 },
 "nbformat": 4,
 "nbformat_minor": 2
}
