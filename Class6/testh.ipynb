{
 "cells": [
  {
   "cell_type": "code",
   "execution_count": 1,
   "metadata": {},
   "outputs": [
    {
     "name": "stderr",
     "output_type": "stream",
     "text": [
      "/tmp/tmpe4vk1eum.c:1:10: fatal error: m_strop.h: No such file or directory\n",
      " #include \"m_strop.h\"\n",
      "          ^~~~~~~~~~~\n",
      "compilation terminated.\n",
      "[C kernel] GCC exited with code 1, the executable will not be executed"
     ]
    }
   ],
   "source": [
    "#include \"m_strop.h\"\n",
    "#include <stdio.h>\n",
    "int main(){\n",
    "int counter=0;\n",
    "char line[1000];\n",
    "char t[]=\"es\";    \n",
    "while(readline(line)) if(strindex(line,t)>=0) counter++; \n",
    "printf(\"%d lines include:%s\\n\",counter,t);\n",
    "}"
   ]
  },
  {
   "cell_type": "code",
   "execution_count": null,
   "metadata": {},
   "outputs": [],
   "source": []
  }
 ],
 "metadata": {
  "kernelspec": {
   "display_name": "C",
   "language": "c",
   "name": "c"
  },
  "language_info": {
   "file_extension": ".c",
   "mimetype": "text/plain",
   "name": "c"
  }
 },
 "nbformat": 4,
 "nbformat_minor": 2
}
